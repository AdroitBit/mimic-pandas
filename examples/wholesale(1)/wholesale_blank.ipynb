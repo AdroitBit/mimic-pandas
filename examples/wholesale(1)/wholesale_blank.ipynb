{
 "cells": [
  {
   "cell_type": "markdown",
   "metadata": {
    "id": "AqVlL-qo4TGw"
   },
   "source": [
    "# **Wholesale Dataset**\n"
   ]
  },
  {
   "cell_type": "markdown",
   "metadata": {
    "id": "HKlQ-GXH4aY4"
   },
   "source": [
    "ไฟล์ \"Wholesale customers data.csv\" (download จาก https://archive.ics.uci.edu/ml/machine-learning-databases/00292/) เป็นข้อมูลเกี่ยวกับยอดการขายสินค้าประเภทต่างๆ ในแต่ละภูมิภาค ผ่าน 2 ช่องทาง คือ Horeca (Hotel/Restaurant/Cafe) หรือ Retail จาก UCI Machine Learning Repository โดยแถวแรกเป็นชื่อคอลัมน์ และ แถวที่ 2 เป็นต้นไปเก็บข้อมูล\n",
    "\n",
    "ประเภทของสินค้า คือ fresh products, milk products, grocery products, forzen products, detergents and papers และ delicatessen\n",
    "\n",
    "คอลัมน์ CHANNEL เป็นช่องทางการขาย ที่มีค่าเป็น Horeca (Hotel/Restaurant/Cafe) หรือ Retail (1,2)\n",
    "คอลัมน์ REGION: เป็นภูมิภาค ได้แก่ Lisnon, Oporto หรือ Other (1,2,3)\n",
    "คอลัมน์ FRESH, MILK, GROCERY, FROZEN, DETERGENTS_PAPER, DELICATESSEN เป็นยอดขายของสินค้าแต่ละประเภทในภูมิภาคนั้น ผ่านช่องทางนั้นในหนึ่งปี"
   ]
  },
  {
   "cell_type": "markdown",
   "metadata": {
    "id": "aWHc1kgj_HFZ"
   },
   "source": [
    "\n",
    "\n",
    "1) เขียนโปรแกรมเพื่อแปลงข้อมูลช่องทางการขายและภูมิภาค จากตัวเลขให้เป็นชื่อของแต่ละช่องทางการขายและภูมิภาคนั้น ๆ จากนั้นบันทึกเป็นไฟล์ใหม่ที่มีชื่อว่า Rename_Wholesale.csv โดยจะใช้ไฟล์นี้เป็นหลักในข้อถัดไป\n",
    "\n",
    "2) เขียนโปรแกรมเพื่อหายอดขายรวมจากทุกช่องทาง ในทุกภูมิภาค สำหรับสินค้าแต่ละประเภทแล้ววาด pie chart\n",
    "\n",
    "3) เขียนโปรแกรมเพื่อหายอดขายรวมของสินค้าทุกประเภท ในทุกช่องทาง สำหรับแต่ละภูมิภาคแล้ววาด pie chart\n",
    "\n",
    "4) เขียนโปรแกรมเพื่อหายอดขายรวมของสินค้าสำหรับทำความสะอาดในแต่ละช่องทางการขาย โดยแบ่งเป็นของแต่ละภูมิภาค พร้อมพล็อตกราฟของแต่ละภูมิภาค\n",
    "\n",
    "5) เขียนโปรแกรมเพื่อหาจำนวนคนที่ยอดขายของอาหารสดรวมกับอาหารแช่แข็งผ่านช่องทาง Horeca(Hotel/Restaurant/Cafe) ไม่เกิน 1,000 ชิ้น\n",
    "\n",
    "6) เขียนโปรแกรมเพื่อหาภูมิภาคที่มีการบริโภคนมมากที่สุด และในภูมิภาคนั้นมีการบริโภคนมมากกว่าอาหารสดทั้งหมดกี่คน"
   ]
  },
  {
   "cell_type": "markdown",
   "metadata": {
    "id": "lDjB-zkv1xaZ"
   },
   "source": [
    "## 0) Prepare data"
   ]
  },
  {
   "cell_type": "code",
   "execution_count": 1,
   "metadata": {
    "id": "MqIGZH1k12MZ"
   },
   "outputs": [],
   "source": []
  },
  {
   "cell_type": "code",
   "execution_count": 2,
   "metadata": {},
   "outputs": [
    {
     "data": {
      "text/plain": [
       "{'Channel': 2,\n",
       " 'Region': 3,\n",
       " 'Fresh': 12669,\n",
       " 'Milk': 9656,\n",
       " 'Grocery': 7561,\n",
       " 'Frozen': 214,\n",
       " 'Detergents_Paper': 2674,\n",
       " 'Delicassen': 1338}"
      ]
     },
     "execution_count": 2,
     "metadata": {},
     "output_type": "execute_result"
    }
   ],
   "source": []
  },
  {
   "cell_type": "markdown",
   "metadata": {
    "id": "RxkLg42e_4XV"
   },
   "source": [
    "## 1) แปลงข้อมูลช่องทางการขายและภูมิภาค จากตัวเลขให้เป็นชื่อของแต่ละช่องทางการขายและภูมิภาคนั้น ๆ "
   ]
  },
  {
   "cell_type": "markdown",
   "metadata": {},
   "source": [
    "คอลัมน์ CHANNEL เป็นช่องทางการขาย ที่มีค่าเป็น Horeca (Hotel/Restaurant/Cafe) หรือ Retail (1,2)\n",
    "\n",
    "คอลัมน์ REGION: เป็นภูมิภาค ได้แก่ Lisnon, Oporto หรือ Other (1,2,3)"
   ]
  },
  {
   "cell_type": "code",
   "execution_count": 3,
   "metadata": {},
   "outputs": [],
   "source": []
  },
  {
   "cell_type": "code",
   "execution_count": 4,
   "metadata": {},
   "outputs": [],
   "source": []
  },
  {
   "cell_type": "code",
   "execution_count": 5,
   "metadata": {},
   "outputs": [
    {
     "data": {
      "text/plain": [
       "{'Channel': 'Retail',\n",
       " 'Region': 'Other',\n",
       " 'Fresh': 12669,\n",
       " 'Milk': 9656,\n",
       " 'Grocery': 7561,\n",
       " 'Frozen': 214,\n",
       " 'Detergents_Paper': 2674,\n",
       " 'Delicassen': 1338}"
      ]
     },
     "execution_count": 5,
     "metadata": {},
     "output_type": "execute_result"
    }
   ],
   "source": []
  },
  {
   "cell_type": "markdown",
   "metadata": {
    "id": "E-ZHAoStLxBv"
   },
   "source": [
    "## 2) หายอดขายรวมจากทุกช่องทาง ในทุกภูมิภาค สำหรับสินค้าแต่ละประเภท\n",
    "\n"
   ]
  },
  {
   "cell_type": "markdown",
   "metadata": {},
   "source": [
    "```\n",
    "Fresh               5280131             \n",
    "Milk                2550357             \n",
    "Grocery             3498562             \n",
    "Frozen              1351650             \n",
    "Detergents_Paper    1267857             \n",
    "Delicassen          670943 \n",
    "```"
   ]
  },
  {
   "cell_type": "code",
   "execution_count": 34,
   "metadata": {},
   "outputs": [],
   "source": []
  },
  {
   "cell_type": "code",
   "execution_count": 35,
   "metadata": {},
   "outputs": [],
   "source": []
  },
  {
   "cell_type": "code",
   "execution_count": 88,
   "metadata": {},
   "outputs": [
    {
     "name": "stdout",
     "output_type": "stream",
     "text": [
      "Fresh               5280131             \n",
      "Milk                2550357             \n",
      "Grocery             3498562             \n",
      "Frozen              1351650             \n",
      "Detergents_Paper    1267857             \n",
      "Delicassen          670943              \n"
     ]
    }
   ],
   "source": []
  },
  {
   "cell_type": "markdown",
   "metadata": {
    "id": "KEzo9D08zUI7"
   },
   "source": [
    "## 3) หายอดขายรวมของสินค้าทุกประเภท ในทุกช่องทาง สำหรับแต่ละภูมิภาค"
   ]
  },
  {
   "cell_type": "markdown",
   "metadata": {},
   "source": [
    "```\n",
    "Other 10677599\n",
    "Lisnon 2386813\n",
    "Oporto 1555088\n",
    "```"
   ]
  },
  {
   "cell_type": "code",
   "execution_count": 58,
   "metadata": {},
   "outputs": [],
   "source": []
  },
  {
   "cell_type": "code",
   "execution_count": 59,
   "metadata": {},
   "outputs": [],
   "source": []
  },
  {
   "cell_type": "code",
   "execution_count": 89,
   "metadata": {
    "colab": {
     "base_uri": "https://localhost:8080/",
     "height": 542
    },
    "id": "6ax5O7XGDFXs",
    "outputId": "51d17c8a-eab7-4fe2-91bd-679e10f8cfdd"
   },
   "outputs": [
    {
     "name": "stdout",
     "output_type": "stream",
     "text": [
      "Other               10677599            \n",
      "Lisnon              2386813             \n",
      "Oporto              1555088             \n"
     ]
    }
   ],
   "source": []
  },
  {
   "cell_type": "markdown",
   "metadata": {
    "id": "9QWd21l29blB"
   },
   "source": [
    "## 4) เขียนโปรแกรมเพื่อหายอดขายรวมของสินค้าสำหรับทำความสะอาด(Detergents_Paper) ในแต่ละช่องทางการขาย โดยแบ่งเป็นของแต่ละภูมิภาค"
   ]
  },
  {
   "cell_type": "markdown",
   "metadata": {},
   "source": [
    "```\n",
    "Other\n",
    "Horeca 165990\n",
    "Retail 724420\n",
    "\n",
    "Lisnon\n",
    "Horeca 56081\n",
    "Retail 148055\n",
    "\n",
    "Oporto\n",
    "Horeca 13516\n",
    "Retail 159795\n",
    "```"
   ]
  },
  {
   "cell_type": "code",
   "execution_count": 91,
   "metadata": {},
   "outputs": [],
   "source": []
  },
  {
   "cell_type": "code",
   "execution_count": 94,
   "metadata": {},
   "outputs": [],
   "source": []
  },
  {
   "cell_type": "code",
   "execution_count": 103,
   "metadata": {},
   "outputs": [
    {
     "name": "stdout",
     "output_type": "stream",
     "text": [
      "Other\n",
      "Horeca    165990\n",
      "Retail    724420\n",
      "\n",
      "Lisnon\n",
      "Horeca    56081\n",
      "Retail    148055\n",
      "\n",
      "Oporto\n",
      "Horeca    13516\n",
      "Retail    159795\n",
      "\n"
     ]
    }
   ],
   "source": []
  },
  {
   "cell_type": "markdown",
   "metadata": {
    "id": "Slm38QqAL-RI"
   },
   "source": [
    "## 5) จำนวนคนที่ยอดขายของอาหารสดรวมกับอาหารแช่แข็งผ่านช่องทาง Horeca(Hotel/Restaurant/Cafe) ไม่เกิน 1,000 ชิ้น"
   ]
  },
  {
   "cell_type": "markdown",
   "metadata": {},
   "source": [
    "```\n",
    "10\n",
    "```"
   ]
  },
  {
   "cell_type": "code",
   "execution_count": 106,
   "metadata": {
    "colab": {
     "base_uri": "https://localhost:8080/",
     "height": 34
    },
    "id": "B4zcE7fen-fE",
    "outputId": "7cb693f3-563e-45dc-ce1b-61ac4d1e57fd"
   },
   "outputs": [
    {
     "data": {
      "text/plain": [
       "10"
      ]
     },
     "execution_count": 106,
     "metadata": {},
     "output_type": "execute_result"
    }
   ],
   "source": []
  },
  {
   "cell_type": "markdown",
   "metadata": {
    "id": "4bjUuOtxP2ui"
   },
   "source": [
    "## 6) เขียนโปรแกรมเพื่อหาภูมิภาคที่มีการบริโภค นม มากที่สุด และในภูมิภาคนั้นมีการบริโภค นม มากกว่าอาหารสดทั้งหมดกี่คน"
   ]
  },
  {
   "cell_type": "markdown",
   "metadata": {},
   "source": [
    "```\n",
    "ภูมิภาคที่มีการบริโภค นม มากที่สุด\n",
    "Other: 1888759\n",
    "\n",
    "ภูมิภาคนั้นมีการบริโภค นม มากกว่าอาหารสดทั้งหมดกี่คน\n",
    "107\n",
    "```"
   ]
  },
  {
   "cell_type": "code",
   "execution_count": 110,
   "metadata": {},
   "outputs": [],
   "source": []
  },
  {
   "cell_type": "code",
   "execution_count": 113,
   "metadata": {},
   "outputs": [],
   "source": []
  },
  {
   "cell_type": "code",
   "execution_count": 116,
   "metadata": {},
   "outputs": [
    {
     "data": {
      "text/plain": [
       "('Other', 1888759)"
      ]
     },
     "execution_count": 116,
     "metadata": {},
     "output_type": "execute_result"
    }
   ],
   "source": []
  },
  {
   "cell_type": "code",
   "execution_count": 119,
   "metadata": {},
   "outputs": [
    {
     "data": {
      "text/plain": [
       "107"
      ]
     },
     "execution_count": 119,
     "metadata": {},
     "output_type": "execute_result"
    }
   ],
   "source": []
  }
 ],
 "metadata": {
  "colab": {
   "collapsed_sections": [
    "ahP6T9sURwBx"
   ],
   "name": "[Dataset1]ภูศิษฐ์สมบูรณ์ยิ่งสุข.ipynb",
   "provenance": [],
   "toc_visible": true
  },
  "interpreter": {
   "hash": "93aba368ad999e0ef1745a46e51e4eea8804cbe14913d6f919518901ff0dbb6d"
  },
  "kernelspec": {
   "display_name": "Python 3",
   "language": "python",
   "name": "python3"
  },
  "language_info": {
   "codemirror_mode": {
    "name": "ipython",
    "version": 3
   },
   "file_extension": ".py",
   "mimetype": "text/x-python",
   "name": "python",
   "nbconvert_exporter": "python",
   "pygments_lexer": "ipython3",
   "version": "3.8.5"
  }
 },
 "nbformat": 4,
 "nbformat_minor": 2
}
