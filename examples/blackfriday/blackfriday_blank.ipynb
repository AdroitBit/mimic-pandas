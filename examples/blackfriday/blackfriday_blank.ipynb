{
 "cells": [
  {
   "cell_type": "markdown",
   "metadata": {},
   "source": [
    "## ขี้เกียจเขียน ดู data เอาเอง"
   ]
  },
  {
   "cell_type": "markdown",
   "metadata": {},
   "source": [
    "# blackfriday.csv\n",
    "\n",
    "|   User_ID | Product_ID   | Gender   | Age   |   Occupation | City_Category   |   Stay_In_Current_City_Years |   Marital_Status |   Product_Category_1 |   Product_Category_2 |   Product_Category_3 |   Purchase |\n",
    "|----------:|:-------------|:---------|:------|-------------:|:----------------|-----------------------------:|-----------------:|---------------------:|---------------------:|---------------------:|-----------:|\n",
    "|   1003896 | P00125942    | M        | 36-45 |            0 | B               |                            2 |                0 |                    1 |                    2 |                   15 |      15404 |\n",
    "|   1003057 | P00157542    | F        | 26-35 |           12 | B               |                            1 |                0 |                    8 |                   14 |                  nan |       7896 |\n",
    "|   1003491 | P00280842    | M        | 26-35 |           16 | B               |                            1 |                0 |                    1 |                    8 |                  nan |      15598 |\n",
    "|   1005950 | P00196442    | M        | 26-35 |            4 | B               |                            2 |                1 |                    5 |                  nan |                  nan |       3668 |\n",
    "|   1005162 | P00274942    | M        | 26-35 |           17 | A               |                            1 |                1 |                    8 |                  nan |                  nan |       7766 |\n",
    "\n",
    "# *...*"
   ]
  },
  {
   "cell_type": "markdown",
   "metadata": {},
   "source": [
    "## Preprocess"
   ]
  },
  {
   "cell_type": "code",
   "execution_count": 2,
   "metadata": {
    "id": "GTc99Tg29id9"
   },
   "outputs": [],
   "source": []
  },
  {
   "cell_type": "markdown",
   "metadata": {
    "id": "5IdsH_lp-dOp"
   },
   "source": [
    "## 1. \n",
    "ใน dataset มีการเก็บรายการใช้จ่ายของ User เป็นจำนวนทั้งหมดกี่คน"
   ]
  },
  {
   "cell_type": "markdown",
   "metadata": {},
   "source": [
    "```\n",
    "5891 คน\n",
    "```"
   ]
  },
  {
   "cell_type": "code",
   "execution_count": 9,
   "metadata": {},
   "outputs": [
    {
     "name": "stdout",
     "output_type": "stream",
     "text": [
      "5891 คน\n"
     ]
    }
   ],
   "source": []
  },
  {
   "cell_type": "markdown",
   "metadata": {
    "id": "q8zJFVIV-k2N"
   },
   "source": [
    "## 2.\n",
    "\n"
   ]
  },
  {
   "cell_type": "markdown",
   "metadata": {
    "id": "19J-xBIi_ZxJ"
   },
   "source": [
    "ผู้ที่มาซื้อเป็นเพศชาย (M) ทั้งหมดกี่คน และเป็นเพศหญิง (F) ทั้งหมดกี่คน\n"
   ]
  },
  {
   "cell_type": "markdown",
   "metadata": {},
   "source": [
    "```\n",
    "ชาย 414259 คน\n",
    "หญิง 135809 คน\n",
    "```"
   ]
  },
  {
   "cell_type": "code",
   "execution_count": 12,
   "metadata": {
    "id": "6o42HcqL_XYV"
   },
   "outputs": [],
   "source": []
  },
  {
   "cell_type": "code",
   "execution_count": 29,
   "metadata": {
    "colab": {
     "base_uri": "https://localhost:8080/",
     "height": 34
    },
    "id": "Jkak_UFbDzJM",
    "outputId": "054703da-e1f0-4d67-dccc-814cd1e5ee13"
   },
   "outputs": [
    {
     "name": "stdout",
     "output_type": "stream",
     "text": [
      "ชาย 414259 คน\n",
      "หญิง 135809 คน\n"
     ]
    }
   ],
   "source": []
  },
  {
   "cell_type": "markdown",
   "metadata": {
    "id": "i9CM8IRl-oP3"
   },
   "source": [
    "## 3.\n",
    "พิจารณาเฉพาะผู้ซื้อที่เป็นเพศ**หญิง** ค่าเฉลี่ยของการใช้จ่ายรวม (Sum of Purchase) ต่อผู้ซื้อหนึ่งคนเป็นจำนวนเท่าไร"
   ]
  },
  {
   "cell_type": "markdown",
   "metadata": {},
   "source": [
    "```\n",
    "712024.39...\n",
    "```"
   ]
  },
  {
   "cell_type": "code",
   "execution_count": 128,
   "metadata": {},
   "outputs": [],
   "source": []
  },
  {
   "cell_type": "code",
   "execution_count": 129,
   "metadata": {},
   "outputs": [],
   "source": []
  },
  {
   "cell_type": "code",
   "execution_count": 130,
   "metadata": {},
   "outputs": [
    {
     "name": "stdout",
     "output_type": "stream",
     "text": [
      "8734.565765155476\n"
     ]
    }
   ],
   "source": []
  },
  {
   "cell_type": "markdown",
   "metadata": {},
   "source": [
    "## 4.\n",
    "\n",
    "4.1) จงแสดงว่าในแต่ละ transaction, สินค้าแต่ละหมายเลขในตัวแปร Product_Category_1 มีอัตราส่วนการซื้อเป็นอย่างไร\n",
    "\n",
    "เรียงตาม Product_Category_1\n"
   ]
  },
  {
   "cell_type": "markdown",
   "metadata": {},
   "source": [
    "```\n",
    "1 25.52\n",
    "2 4.34\n",
    "3 3.67\n",
    "4 2.14\n",
    "5 27.44\n",
    "6 3.72\n",
    "7 0.68\n",
    "8 20.71\n",
    "9 0.07\n",
    "10 0.93\n",
    "11 4.42\n",
    "12 0.72\n",
    "13 1.01\n",
    "14 0.28\n",
    "15 1.14\n",
    "16 1.79\n",
    "17 0.11\n",
    "18 0.57\n",
    "19 0.29\n",
    "20 0.46\n",
    "```"
   ]
  },
  {
   "cell_type": "code",
   "execution_count": 95,
   "metadata": {},
   "outputs": [],
   "source": []
  },
  {
   "cell_type": "code",
   "execution_count": 114,
   "metadata": {},
   "outputs": [],
   "source": []
  },
  {
   "cell_type": "code",
   "execution_count": 115,
   "metadata": {
    "colab": {
     "base_uri": "https://localhost:8080/",
     "height": 669
    },
    "id": "4_mDznhjGWDQ",
    "outputId": "d36f50c6-5e68-4c8b-baf3-48db3f6185b8"
   },
   "outputs": [
    {
     "name": "stdout",
     "output_type": "stream",
     "text": [
      "1    25.52\n",
      "2    4.34\n",
      "3    3.67\n",
      "4    2.14\n",
      "5    27.44\n",
      "6    3.72\n",
      "7    0.68\n",
      "8    20.71\n",
      "9    0.07\n",
      "10   0.93\n",
      "11   4.42\n",
      "12   0.72\n",
      "13   1.01\n",
      "14   0.28\n",
      "15   1.14\n",
      "16   1.79\n",
      "17   0.11\n",
      "18   0.57\n",
      "19   0.29\n",
      "20   0.46\n"
     ]
    }
   ],
   "source": []
  },
  {
   "cell_type": "markdown",
   "metadata": {
    "id": "eMJP2n1u_lEE"
   },
   "source": [
    "4.2) ให้ระบุหมายเลขสินค้าที่มีอัตราส่วนการซื้อมากที่สุด 3 ลำดับแรก"
   ]
  },
  {
   "cell_type": "markdown",
   "metadata": {},
   "source": [
    "```\n",
    "5 27.44\n",
    "1 25.52\n",
    "8 20.71\n",
    "```"
   ]
  },
  {
   "cell_type": "code",
   "execution_count": 119,
   "metadata": {
    "colab": {
     "base_uri": "https://localhost:8080/",
     "height": 142
    },
    "id": "PhvP7l5QJWLE",
    "outputId": "281a0071-833c-4d33-fc41-3f1965fb6652"
   },
   "outputs": [
    {
     "name": "stdout",
     "output_type": "stream",
     "text": [
      "5    27.44\n",
      "1    25.52\n",
      "8    20.71\n"
     ]
    }
   ],
   "source": []
  },
  {
   "cell_type": "markdown",
   "metadata": {
    "id": "HF9B6EGM-vXJ"
   },
   "source": [
    "## 5. \n",
    "จากข้อ 4.2) ปริมาณการซื้อสินค้าทั้ง 3 อันดับแรกรวมกัน\n",
    "คิดเป็นอัตราส่วนกี่เปอร์เซ็นต์ของปริมาณการซื้อสินค้าทั้งหมด\n"
   ]
  },
  {
   "cell_type": "markdown",
   "metadata": {},
   "source": [
    "```\n",
    "73.67 %"
   ]
  },
  {
   "cell_type": "code",
   "execution_count": 121,
   "metadata": {},
   "outputs": [
    {
     "data": {
      "text/plain": [
       "73.67016441603585"
      ]
     },
     "execution_count": 121,
     "metadata": {},
     "output_type": "execute_result"
    }
   ],
   "source": []
  }
 ],
 "metadata": {
  "colab": {
   "collapsed_sections": [],
   "name": "[Dataset4]ภูศิษฐ์สมบูรณ์ยิ่งสุข.ipynb",
   "provenance": []
  },
  "interpreter": {
   "hash": "93aba368ad999e0ef1745a46e51e4eea8804cbe14913d6f919518901ff0dbb6d"
  },
  "kernelspec": {
   "display_name": "Python 3",
   "language": "python",
   "name": "python3"
  },
  "language_info": {
   "codemirror_mode": {
    "name": "ipython",
    "version": 3
   },
   "file_extension": ".py",
   "mimetype": "text/x-python",
   "name": "python",
   "nbconvert_exporter": "python",
   "pygments_lexer": "ipython3",
   "version": "3.8.5"
  }
 },
 "nbformat": 4,
 "nbformat_minor": 2
}
